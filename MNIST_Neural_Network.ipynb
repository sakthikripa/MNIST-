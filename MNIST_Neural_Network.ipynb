{
  "nbformat": 4,
  "nbformat_minor": 0,
  "metadata": {
    "kernelspec": {
      "display_name": "Python 3",
      "language": "python",
      "name": "python3"
    },
    "language_info": {
      "codemirror_mode": {
        "name": "ipython",
        "version": 3
      },
      "file_extension": ".py",
      "mimetype": "text/x-python",
      "name": "python",
      "nbconvert_exporter": "python",
      "pygments_lexer": "ipython3",
      "version": "3.6.12"
    },
    "colab": {
      "name": "Completed PS3-Problem-4.ipynb",
      "provenance": [],
      "collapsed_sections": []
    },
    "widgets": {
      "application/vnd.jupyter.widget-state+json": {
        "b09649a8848c4d79b0fff34ab821daa8": {
          "model_module": "@jupyter-widgets/controls",
          "model_name": "HBoxModel",
          "model_module_version": "1.5.0",
          "state": {
            "_view_name": "HBoxView",
            "_dom_classes": [],
            "_model_name": "HBoxModel",
            "_view_module": "@jupyter-widgets/controls",
            "_model_module_version": "1.5.0",
            "_view_count": null,
            "_view_module_version": "1.5.0",
            "box_style": "",
            "layout": "IPY_MODEL_7dbfbb94e5244f12a20ade5b654f5115",
            "_model_module": "@jupyter-widgets/controls",
            "children": [
              "IPY_MODEL_35bda7bc7c8e46448f52521c6c42632e",
              "IPY_MODEL_bb13ab629a3b43c8ac3c1bc368b34499",
              "IPY_MODEL_49ce2f741cb1416f9703c949838c7668"
            ]
          }
        },
        "7dbfbb94e5244f12a20ade5b654f5115": {
          "model_module": "@jupyter-widgets/base",
          "model_name": "LayoutModel",
          "model_module_version": "1.2.0",
          "state": {
            "_view_name": "LayoutView",
            "grid_template_rows": null,
            "right": null,
            "justify_content": null,
            "_view_module": "@jupyter-widgets/base",
            "overflow": null,
            "_model_module_version": "1.2.0",
            "_view_count": null,
            "flex_flow": null,
            "width": null,
            "min_width": null,
            "border": null,
            "align_items": null,
            "bottom": null,
            "_model_module": "@jupyter-widgets/base",
            "top": null,
            "grid_column": null,
            "overflow_y": null,
            "overflow_x": null,
            "grid_auto_flow": null,
            "grid_area": null,
            "grid_template_columns": null,
            "flex": null,
            "_model_name": "LayoutModel",
            "justify_items": null,
            "grid_row": null,
            "max_height": null,
            "align_content": null,
            "visibility": null,
            "align_self": null,
            "height": null,
            "min_height": null,
            "padding": null,
            "grid_auto_rows": null,
            "grid_gap": null,
            "max_width": null,
            "order": null,
            "_view_module_version": "1.2.0",
            "grid_template_areas": null,
            "object_position": null,
            "object_fit": null,
            "grid_auto_columns": null,
            "margin": null,
            "display": null,
            "left": null
          }
        },
        "35bda7bc7c8e46448f52521c6c42632e": {
          "model_module": "@jupyter-widgets/controls",
          "model_name": "HTMLModel",
          "model_module_version": "1.5.0",
          "state": {
            "_view_name": "HTMLView",
            "style": "IPY_MODEL_5922ddb9ac794cdf81863fc7293cd88b",
            "_dom_classes": [],
            "description": "",
            "_model_name": "HTMLModel",
            "placeholder": "​",
            "_view_module": "@jupyter-widgets/controls",
            "_model_module_version": "1.5.0",
            "value": "",
            "_view_count": null,
            "_view_module_version": "1.5.0",
            "description_tooltip": null,
            "_model_module": "@jupyter-widgets/controls",
            "layout": "IPY_MODEL_88b1243fab1e43fa9741c3841fb03bc5"
          }
        },
        "bb13ab629a3b43c8ac3c1bc368b34499": {
          "model_module": "@jupyter-widgets/controls",
          "model_name": "FloatProgressModel",
          "model_module_version": "1.5.0",
          "state": {
            "_view_name": "ProgressView",
            "style": "IPY_MODEL_4fc9b32a42f340ed96e3f43752245633",
            "_dom_classes": [],
            "description": "",
            "_model_name": "FloatProgressModel",
            "bar_style": "success",
            "max": 9912422,
            "_view_module": "@jupyter-widgets/controls",
            "_model_module_version": "1.5.0",
            "value": 9912422,
            "_view_count": null,
            "_view_module_version": "1.5.0",
            "orientation": "horizontal",
            "min": 0,
            "description_tooltip": null,
            "_model_module": "@jupyter-widgets/controls",
            "layout": "IPY_MODEL_84e4317d5bf94d6daadabcf6edfa9271"
          }
        },
        "49ce2f741cb1416f9703c949838c7668": {
          "model_module": "@jupyter-widgets/controls",
          "model_name": "HTMLModel",
          "model_module_version": "1.5.0",
          "state": {
            "_view_name": "HTMLView",
            "style": "IPY_MODEL_f7ee88e7a9ac42859e1f59c86f1dc6d1",
            "_dom_classes": [],
            "description": "",
            "_model_name": "HTMLModel",
            "placeholder": "​",
            "_view_module": "@jupyter-widgets/controls",
            "_model_module_version": "1.5.0",
            "value": " 9913344/? [00:00&lt;00:00, 31716442.17it/s]",
            "_view_count": null,
            "_view_module_version": "1.5.0",
            "description_tooltip": null,
            "_model_module": "@jupyter-widgets/controls",
            "layout": "IPY_MODEL_6c430dc79f884ad39b7bbc89e0d9f9fe"
          }
        },
        "5922ddb9ac794cdf81863fc7293cd88b": {
          "model_module": "@jupyter-widgets/controls",
          "model_name": "DescriptionStyleModel",
          "model_module_version": "1.5.0",
          "state": {
            "_view_name": "StyleView",
            "_model_name": "DescriptionStyleModel",
            "description_width": "",
            "_view_module": "@jupyter-widgets/base",
            "_model_module_version": "1.5.0",
            "_view_count": null,
            "_view_module_version": "1.2.0",
            "_model_module": "@jupyter-widgets/controls"
          }
        },
        "88b1243fab1e43fa9741c3841fb03bc5": {
          "model_module": "@jupyter-widgets/base",
          "model_name": "LayoutModel",
          "model_module_version": "1.2.0",
          "state": {
            "_view_name": "LayoutView",
            "grid_template_rows": null,
            "right": null,
            "justify_content": null,
            "_view_module": "@jupyter-widgets/base",
            "overflow": null,
            "_model_module_version": "1.2.0",
            "_view_count": null,
            "flex_flow": null,
            "width": null,
            "min_width": null,
            "border": null,
            "align_items": null,
            "bottom": null,
            "_model_module": "@jupyter-widgets/base",
            "top": null,
            "grid_column": null,
            "overflow_y": null,
            "overflow_x": null,
            "grid_auto_flow": null,
            "grid_area": null,
            "grid_template_columns": null,
            "flex": null,
            "_model_name": "LayoutModel",
            "justify_items": null,
            "grid_row": null,
            "max_height": null,
            "align_content": null,
            "visibility": null,
            "align_self": null,
            "height": null,
            "min_height": null,
            "padding": null,
            "grid_auto_rows": null,
            "grid_gap": null,
            "max_width": null,
            "order": null,
            "_view_module_version": "1.2.0",
            "grid_template_areas": null,
            "object_position": null,
            "object_fit": null,
            "grid_auto_columns": null,
            "margin": null,
            "display": null,
            "left": null
          }
        },
        "4fc9b32a42f340ed96e3f43752245633": {
          "model_module": "@jupyter-widgets/controls",
          "model_name": "ProgressStyleModel",
          "model_module_version": "1.5.0",
          "state": {
            "_view_name": "StyleView",
            "_model_name": "ProgressStyleModel",
            "description_width": "",
            "_view_module": "@jupyter-widgets/base",
            "_model_module_version": "1.5.0",
            "_view_count": null,
            "_view_module_version": "1.2.0",
            "bar_color": null,
            "_model_module": "@jupyter-widgets/controls"
          }
        },
        "84e4317d5bf94d6daadabcf6edfa9271": {
          "model_module": "@jupyter-widgets/base",
          "model_name": "LayoutModel",
          "model_module_version": "1.2.0",
          "state": {
            "_view_name": "LayoutView",
            "grid_template_rows": null,
            "right": null,
            "justify_content": null,
            "_view_module": "@jupyter-widgets/base",
            "overflow": null,
            "_model_module_version": "1.2.0",
            "_view_count": null,
            "flex_flow": null,
            "width": null,
            "min_width": null,
            "border": null,
            "align_items": null,
            "bottom": null,
            "_model_module": "@jupyter-widgets/base",
            "top": null,
            "grid_column": null,
            "overflow_y": null,
            "overflow_x": null,
            "grid_auto_flow": null,
            "grid_area": null,
            "grid_template_columns": null,
            "flex": null,
            "_model_name": "LayoutModel",
            "justify_items": null,
            "grid_row": null,
            "max_height": null,
            "align_content": null,
            "visibility": null,
            "align_self": null,
            "height": null,
            "min_height": null,
            "padding": null,
            "grid_auto_rows": null,
            "grid_gap": null,
            "max_width": null,
            "order": null,
            "_view_module_version": "1.2.0",
            "grid_template_areas": null,
            "object_position": null,
            "object_fit": null,
            "grid_auto_columns": null,
            "margin": null,
            "display": null,
            "left": null
          }
        },
        "f7ee88e7a9ac42859e1f59c86f1dc6d1": {
          "model_module": "@jupyter-widgets/controls",
          "model_name": "DescriptionStyleModel",
          "model_module_version": "1.5.0",
          "state": {
            "_view_name": "StyleView",
            "_model_name": "DescriptionStyleModel",
            "description_width": "",
            "_view_module": "@jupyter-widgets/base",
            "_model_module_version": "1.5.0",
            "_view_count": null,
            "_view_module_version": "1.2.0",
            "_model_module": "@jupyter-widgets/controls"
          }
        },
        "6c430dc79f884ad39b7bbc89e0d9f9fe": {
          "model_module": "@jupyter-widgets/base",
          "model_name": "LayoutModel",
          "model_module_version": "1.2.0",
          "state": {
            "_view_name": "LayoutView",
            "grid_template_rows": null,
            "right": null,
            "justify_content": null,
            "_view_module": "@jupyter-widgets/base",
            "overflow": null,
            "_model_module_version": "1.2.0",
            "_view_count": null,
            "flex_flow": null,
            "width": null,
            "min_width": null,
            "border": null,
            "align_items": null,
            "bottom": null,
            "_model_module": "@jupyter-widgets/base",
            "top": null,
            "grid_column": null,
            "overflow_y": null,
            "overflow_x": null,
            "grid_auto_flow": null,
            "grid_area": null,
            "grid_template_columns": null,
            "flex": null,
            "_model_name": "LayoutModel",
            "justify_items": null,
            "grid_row": null,
            "max_height": null,
            "align_content": null,
            "visibility": null,
            "align_self": null,
            "height": null,
            "min_height": null,
            "padding": null,
            "grid_auto_rows": null,
            "grid_gap": null,
            "max_width": null,
            "order": null,
            "_view_module_version": "1.2.0",
            "grid_template_areas": null,
            "object_position": null,
            "object_fit": null,
            "grid_auto_columns": null,
            "margin": null,
            "display": null,
            "left": null
          }
        },
        "ba07ae48741e4161bd4728095258ca49": {
          "model_module": "@jupyter-widgets/controls",
          "model_name": "HBoxModel",
          "model_module_version": "1.5.0",
          "state": {
            "_view_name": "HBoxView",
            "_dom_classes": [],
            "_model_name": "HBoxModel",
            "_view_module": "@jupyter-widgets/controls",
            "_model_module_version": "1.5.0",
            "_view_count": null,
            "_view_module_version": "1.5.0",
            "box_style": "",
            "layout": "IPY_MODEL_bd8d56e399514e00ae85776d741940c8",
            "_model_module": "@jupyter-widgets/controls",
            "children": [
              "IPY_MODEL_4466ff92a52749829043cb70ddf8b1b5",
              "IPY_MODEL_f6fd24ee0a2047d594788702972c3b05",
              "IPY_MODEL_00368511f9e246199e901ce85c3af762"
            ]
          }
        },
        "bd8d56e399514e00ae85776d741940c8": {
          "model_module": "@jupyter-widgets/base",
          "model_name": "LayoutModel",
          "model_module_version": "1.2.0",
          "state": {
            "_view_name": "LayoutView",
            "grid_template_rows": null,
            "right": null,
            "justify_content": null,
            "_view_module": "@jupyter-widgets/base",
            "overflow": null,
            "_model_module_version": "1.2.0",
            "_view_count": null,
            "flex_flow": null,
            "width": null,
            "min_width": null,
            "border": null,
            "align_items": null,
            "bottom": null,
            "_model_module": "@jupyter-widgets/base",
            "top": null,
            "grid_column": null,
            "overflow_y": null,
            "overflow_x": null,
            "grid_auto_flow": null,
            "grid_area": null,
            "grid_template_columns": null,
            "flex": null,
            "_model_name": "LayoutModel",
            "justify_items": null,
            "grid_row": null,
            "max_height": null,
            "align_content": null,
            "visibility": null,
            "align_self": null,
            "height": null,
            "min_height": null,
            "padding": null,
            "grid_auto_rows": null,
            "grid_gap": null,
            "max_width": null,
            "order": null,
            "_view_module_version": "1.2.0",
            "grid_template_areas": null,
            "object_position": null,
            "object_fit": null,
            "grid_auto_columns": null,
            "margin": null,
            "display": null,
            "left": null
          }
        },
        "4466ff92a52749829043cb70ddf8b1b5": {
          "model_module": "@jupyter-widgets/controls",
          "model_name": "HTMLModel",
          "model_module_version": "1.5.0",
          "state": {
            "_view_name": "HTMLView",
            "style": "IPY_MODEL_75544387a9114baba09b029eda17a810",
            "_dom_classes": [],
            "description": "",
            "_model_name": "HTMLModel",
            "placeholder": "​",
            "_view_module": "@jupyter-widgets/controls",
            "_model_module_version": "1.5.0",
            "value": "",
            "_view_count": null,
            "_view_module_version": "1.5.0",
            "description_tooltip": null,
            "_model_module": "@jupyter-widgets/controls",
            "layout": "IPY_MODEL_c48e41e717a14a1e9617667745e28aec"
          }
        },
        "f6fd24ee0a2047d594788702972c3b05": {
          "model_module": "@jupyter-widgets/controls",
          "model_name": "FloatProgressModel",
          "model_module_version": "1.5.0",
          "state": {
            "_view_name": "ProgressView",
            "style": "IPY_MODEL_e4bd1fc4c2684f9c8a00e8c1c3a3f425",
            "_dom_classes": [],
            "description": "",
            "_model_name": "FloatProgressModel",
            "bar_style": "success",
            "max": 28881,
            "_view_module": "@jupyter-widgets/controls",
            "_model_module_version": "1.5.0",
            "value": 28881,
            "_view_count": null,
            "_view_module_version": "1.5.0",
            "orientation": "horizontal",
            "min": 0,
            "description_tooltip": null,
            "_model_module": "@jupyter-widgets/controls",
            "layout": "IPY_MODEL_1f6d7c7f48e74566b6fa194f5e5ab7ff"
          }
        },
        "00368511f9e246199e901ce85c3af762": {
          "model_module": "@jupyter-widgets/controls",
          "model_name": "HTMLModel",
          "model_module_version": "1.5.0",
          "state": {
            "_view_name": "HTMLView",
            "style": "IPY_MODEL_d2de57bd1a8f4c4ab860a46204d26545",
            "_dom_classes": [],
            "description": "",
            "_model_name": "HTMLModel",
            "placeholder": "​",
            "_view_module": "@jupyter-widgets/controls",
            "_model_module_version": "1.5.0",
            "value": " 29696/? [00:00&lt;00:00, 814121.34it/s]",
            "_view_count": null,
            "_view_module_version": "1.5.0",
            "description_tooltip": null,
            "_model_module": "@jupyter-widgets/controls",
            "layout": "IPY_MODEL_f436a5df366b4b2daef97692c48ba926"
          }
        },
        "75544387a9114baba09b029eda17a810": {
          "model_module": "@jupyter-widgets/controls",
          "model_name": "DescriptionStyleModel",
          "model_module_version": "1.5.0",
          "state": {
            "_view_name": "StyleView",
            "_model_name": "DescriptionStyleModel",
            "description_width": "",
            "_view_module": "@jupyter-widgets/base",
            "_model_module_version": "1.5.0",
            "_view_count": null,
            "_view_module_version": "1.2.0",
            "_model_module": "@jupyter-widgets/controls"
          }
        },
        "c48e41e717a14a1e9617667745e28aec": {
          "model_module": "@jupyter-widgets/base",
          "model_name": "LayoutModel",
          "model_module_version": "1.2.0",
          "state": {
            "_view_name": "LayoutView",
            "grid_template_rows": null,
            "right": null,
            "justify_content": null,
            "_view_module": "@jupyter-widgets/base",
            "overflow": null,
            "_model_module_version": "1.2.0",
            "_view_count": null,
            "flex_flow": null,
            "width": null,
            "min_width": null,
            "border": null,
            "align_items": null,
            "bottom": null,
            "_model_module": "@jupyter-widgets/base",
            "top": null,
            "grid_column": null,
            "overflow_y": null,
            "overflow_x": null,
            "grid_auto_flow": null,
            "grid_area": null,
            "grid_template_columns": null,
            "flex": null,
            "_model_name": "LayoutModel",
            "justify_items": null,
            "grid_row": null,
            "max_height": null,
            "align_content": null,
            "visibility": null,
            "align_self": null,
            "height": null,
            "min_height": null,
            "padding": null,
            "grid_auto_rows": null,
            "grid_gap": null,
            "max_width": null,
            "order": null,
            "_view_module_version": "1.2.0",
            "grid_template_areas": null,
            "object_position": null,
            "object_fit": null,
            "grid_auto_columns": null,
            "margin": null,
            "display": null,
            "left": null
          }
        },
        "e4bd1fc4c2684f9c8a00e8c1c3a3f425": {
          "model_module": "@jupyter-widgets/controls",
          "model_name": "ProgressStyleModel",
          "model_module_version": "1.5.0",
          "state": {
            "_view_name": "StyleView",
            "_model_name": "ProgressStyleModel",
            "description_width": "",
            "_view_module": "@jupyter-widgets/base",
            "_model_module_version": "1.5.0",
            "_view_count": null,
            "_view_module_version": "1.2.0",
            "bar_color": null,
            "_model_module": "@jupyter-widgets/controls"
          }
        },
        "1f6d7c7f48e74566b6fa194f5e5ab7ff": {
          "model_module": "@jupyter-widgets/base",
          "model_name": "LayoutModel",
          "model_module_version": "1.2.0",
          "state": {
            "_view_name": "LayoutView",
            "grid_template_rows": null,
            "right": null,
            "justify_content": null,
            "_view_module": "@jupyter-widgets/base",
            "overflow": null,
            "_model_module_version": "1.2.0",
            "_view_count": null,
            "flex_flow": null,
            "width": null,
            "min_width": null,
            "border": null,
            "align_items": null,
            "bottom": null,
            "_model_module": "@jupyter-widgets/base",
            "top": null,
            "grid_column": null,
            "overflow_y": null,
            "overflow_x": null,
            "grid_auto_flow": null,
            "grid_area": null,
            "grid_template_columns": null,
            "flex": null,
            "_model_name": "LayoutModel",
            "justify_items": null,
            "grid_row": null,
            "max_height": null,
            "align_content": null,
            "visibility": null,
            "align_self": null,
            "height": null,
            "min_height": null,
            "padding": null,
            "grid_auto_rows": null,
            "grid_gap": null,
            "max_width": null,
            "order": null,
            "_view_module_version": "1.2.0",
            "grid_template_areas": null,
            "object_position": null,
            "object_fit": null,
            "grid_auto_columns": null,
            "margin": null,
            "display": null,
            "left": null
          }
        },
        "d2de57bd1a8f4c4ab860a46204d26545": {
          "model_module": "@jupyter-widgets/controls",
          "model_name": "DescriptionStyleModel",
          "model_module_version": "1.5.0",
          "state": {
            "_view_name": "StyleView",
            "_model_name": "DescriptionStyleModel",
            "description_width": "",
            "_view_module": "@jupyter-widgets/base",
            "_model_module_version": "1.5.0",
            "_view_count": null,
            "_view_module_version": "1.2.0",
            "_model_module": "@jupyter-widgets/controls"
          }
        },
        "f436a5df366b4b2daef97692c48ba926": {
          "model_module": "@jupyter-widgets/base",
          "model_name": "LayoutModel",
          "model_module_version": "1.2.0",
          "state": {
            "_view_name": "LayoutView",
            "grid_template_rows": null,
            "right": null,
            "justify_content": null,
            "_view_module": "@jupyter-widgets/base",
            "overflow": null,
            "_model_module_version": "1.2.0",
            "_view_count": null,
            "flex_flow": null,
            "width": null,
            "min_width": null,
            "border": null,
            "align_items": null,
            "bottom": null,
            "_model_module": "@jupyter-widgets/base",
            "top": null,
            "grid_column": null,
            "overflow_y": null,
            "overflow_x": null,
            "grid_auto_flow": null,
            "grid_area": null,
            "grid_template_columns": null,
            "flex": null,
            "_model_name": "LayoutModel",
            "justify_items": null,
            "grid_row": null,
            "max_height": null,
            "align_content": null,
            "visibility": null,
            "align_self": null,
            "height": null,
            "min_height": null,
            "padding": null,
            "grid_auto_rows": null,
            "grid_gap": null,
            "max_width": null,
            "order": null,
            "_view_module_version": "1.2.0",
            "grid_template_areas": null,
            "object_position": null,
            "object_fit": null,
            "grid_auto_columns": null,
            "margin": null,
            "display": null,
            "left": null
          }
        },
        "8b1e43095f3a404bb9fb0dbd8c8cacbf": {
          "model_module": "@jupyter-widgets/controls",
          "model_name": "HBoxModel",
          "model_module_version": "1.5.0",
          "state": {
            "_view_name": "HBoxView",
            "_dom_classes": [],
            "_model_name": "HBoxModel",
            "_view_module": "@jupyter-widgets/controls",
            "_model_module_version": "1.5.0",
            "_view_count": null,
            "_view_module_version": "1.5.0",
            "box_style": "",
            "layout": "IPY_MODEL_7f6e2c07cd1544638f79f15de6a71107",
            "_model_module": "@jupyter-widgets/controls",
            "children": [
              "IPY_MODEL_c55611b1007a418ca48e7e9b2c661072",
              "IPY_MODEL_e4104fbdd6764050849db9ab11c43cd4",
              "IPY_MODEL_99cd7b2f45a34f6587da055fa0d83d2a"
            ]
          }
        },
        "7f6e2c07cd1544638f79f15de6a71107": {
          "model_module": "@jupyter-widgets/base",
          "model_name": "LayoutModel",
          "model_module_version": "1.2.0",
          "state": {
            "_view_name": "LayoutView",
            "grid_template_rows": null,
            "right": null,
            "justify_content": null,
            "_view_module": "@jupyter-widgets/base",
            "overflow": null,
            "_model_module_version": "1.2.0",
            "_view_count": null,
            "flex_flow": null,
            "width": null,
            "min_width": null,
            "border": null,
            "align_items": null,
            "bottom": null,
            "_model_module": "@jupyter-widgets/base",
            "top": null,
            "grid_column": null,
            "overflow_y": null,
            "overflow_x": null,
            "grid_auto_flow": null,
            "grid_area": null,
            "grid_template_columns": null,
            "flex": null,
            "_model_name": "LayoutModel",
            "justify_items": null,
            "grid_row": null,
            "max_height": null,
            "align_content": null,
            "visibility": null,
            "align_self": null,
            "height": null,
            "min_height": null,
            "padding": null,
            "grid_auto_rows": null,
            "grid_gap": null,
            "max_width": null,
            "order": null,
            "_view_module_version": "1.2.0",
            "grid_template_areas": null,
            "object_position": null,
            "object_fit": null,
            "grid_auto_columns": null,
            "margin": null,
            "display": null,
            "left": null
          }
        },
        "c55611b1007a418ca48e7e9b2c661072": {
          "model_module": "@jupyter-widgets/controls",
          "model_name": "HTMLModel",
          "model_module_version": "1.5.0",
          "state": {
            "_view_name": "HTMLView",
            "style": "IPY_MODEL_5e02616240714dcca846f3045f495f4e",
            "_dom_classes": [],
            "description": "",
            "_model_name": "HTMLModel",
            "placeholder": "​",
            "_view_module": "@jupyter-widgets/controls",
            "_model_module_version": "1.5.0",
            "value": "",
            "_view_count": null,
            "_view_module_version": "1.5.0",
            "description_tooltip": null,
            "_model_module": "@jupyter-widgets/controls",
            "layout": "IPY_MODEL_83d4d3f4f25c43ab9f98ad3f6263727f"
          }
        },
        "e4104fbdd6764050849db9ab11c43cd4": {
          "model_module": "@jupyter-widgets/controls",
          "model_name": "FloatProgressModel",
          "model_module_version": "1.5.0",
          "state": {
            "_view_name": "ProgressView",
            "style": "IPY_MODEL_318bbff491634e59bbd90d1a7006cbfb",
            "_dom_classes": [],
            "description": "",
            "_model_name": "FloatProgressModel",
            "bar_style": "success",
            "max": 1648877,
            "_view_module": "@jupyter-widgets/controls",
            "_model_module_version": "1.5.0",
            "value": 1648877,
            "_view_count": null,
            "_view_module_version": "1.5.0",
            "orientation": "horizontal",
            "min": 0,
            "description_tooltip": null,
            "_model_module": "@jupyter-widgets/controls",
            "layout": "IPY_MODEL_a34680aee360474481f57399962a1d84"
          }
        },
        "99cd7b2f45a34f6587da055fa0d83d2a": {
          "model_module": "@jupyter-widgets/controls",
          "model_name": "HTMLModel",
          "model_module_version": "1.5.0",
          "state": {
            "_view_name": "HTMLView",
            "style": "IPY_MODEL_478349b949d14d909a290b910bd131bb",
            "_dom_classes": [],
            "description": "",
            "_model_name": "HTMLModel",
            "placeholder": "​",
            "_view_module": "@jupyter-widgets/controls",
            "_model_module_version": "1.5.0",
            "value": " 1649664/? [00:00&lt;00:00, 21142023.50it/s]",
            "_view_count": null,
            "_view_module_version": "1.5.0",
            "description_tooltip": null,
            "_model_module": "@jupyter-widgets/controls",
            "layout": "IPY_MODEL_81d8581f0eed4c869980485c4bc033d4"
          }
        },
        "5e02616240714dcca846f3045f495f4e": {
          "model_module": "@jupyter-widgets/controls",
          "model_name": "DescriptionStyleModel",
          "model_module_version": "1.5.0",
          "state": {
            "_view_name": "StyleView",
            "_model_name": "DescriptionStyleModel",
            "description_width": "",
            "_view_module": "@jupyter-widgets/base",
            "_model_module_version": "1.5.0",
            "_view_count": null,
            "_view_module_version": "1.2.0",
            "_model_module": "@jupyter-widgets/controls"
          }
        },
        "83d4d3f4f25c43ab9f98ad3f6263727f": {
          "model_module": "@jupyter-widgets/base",
          "model_name": "LayoutModel",
          "model_module_version": "1.2.0",
          "state": {
            "_view_name": "LayoutView",
            "grid_template_rows": null,
            "right": null,
            "justify_content": null,
            "_view_module": "@jupyter-widgets/base",
            "overflow": null,
            "_model_module_version": "1.2.0",
            "_view_count": null,
            "flex_flow": null,
            "width": null,
            "min_width": null,
            "border": null,
            "align_items": null,
            "bottom": null,
            "_model_module": "@jupyter-widgets/base",
            "top": null,
            "grid_column": null,
            "overflow_y": null,
            "overflow_x": null,
            "grid_auto_flow": null,
            "grid_area": null,
            "grid_template_columns": null,
            "flex": null,
            "_model_name": "LayoutModel",
            "justify_items": null,
            "grid_row": null,
            "max_height": null,
            "align_content": null,
            "visibility": null,
            "align_self": null,
            "height": null,
            "min_height": null,
            "padding": null,
            "grid_auto_rows": null,
            "grid_gap": null,
            "max_width": null,
            "order": null,
            "_view_module_version": "1.2.0",
            "grid_template_areas": null,
            "object_position": null,
            "object_fit": null,
            "grid_auto_columns": null,
            "margin": null,
            "display": null,
            "left": null
          }
        },
        "318bbff491634e59bbd90d1a7006cbfb": {
          "model_module": "@jupyter-widgets/controls",
          "model_name": "ProgressStyleModel",
          "model_module_version": "1.5.0",
          "state": {
            "_view_name": "StyleView",
            "_model_name": "ProgressStyleModel",
            "description_width": "",
            "_view_module": "@jupyter-widgets/base",
            "_model_module_version": "1.5.0",
            "_view_count": null,
            "_view_module_version": "1.2.0",
            "bar_color": null,
            "_model_module": "@jupyter-widgets/controls"
          }
        },
        "a34680aee360474481f57399962a1d84": {
          "model_module": "@jupyter-widgets/base",
          "model_name": "LayoutModel",
          "model_module_version": "1.2.0",
          "state": {
            "_view_name": "LayoutView",
            "grid_template_rows": null,
            "right": null,
            "justify_content": null,
            "_view_module": "@jupyter-widgets/base",
            "overflow": null,
            "_model_module_version": "1.2.0",
            "_view_count": null,
            "flex_flow": null,
            "width": null,
            "min_width": null,
            "border": null,
            "align_items": null,
            "bottom": null,
            "_model_module": "@jupyter-widgets/base",
            "top": null,
            "grid_column": null,
            "overflow_y": null,
            "overflow_x": null,
            "grid_auto_flow": null,
            "grid_area": null,
            "grid_template_columns": null,
            "flex": null,
            "_model_name": "LayoutModel",
            "justify_items": null,
            "grid_row": null,
            "max_height": null,
            "align_content": null,
            "visibility": null,
            "align_self": null,
            "height": null,
            "min_height": null,
            "padding": null,
            "grid_auto_rows": null,
            "grid_gap": null,
            "max_width": null,
            "order": null,
            "_view_module_version": "1.2.0",
            "grid_template_areas": null,
            "object_position": null,
            "object_fit": null,
            "grid_auto_columns": null,
            "margin": null,
            "display": null,
            "left": null
          }
        },
        "478349b949d14d909a290b910bd131bb": {
          "model_module": "@jupyter-widgets/controls",
          "model_name": "DescriptionStyleModel",
          "model_module_version": "1.5.0",
          "state": {
            "_view_name": "StyleView",
            "_model_name": "DescriptionStyleModel",
            "description_width": "",
            "_view_module": "@jupyter-widgets/base",
            "_model_module_version": "1.5.0",
            "_view_count": null,
            "_view_module_version": "1.2.0",
            "_model_module": "@jupyter-widgets/controls"
          }
        },
        "81d8581f0eed4c869980485c4bc033d4": {
          "model_module": "@jupyter-widgets/base",
          "model_name": "LayoutModel",
          "model_module_version": "1.2.0",
          "state": {
            "_view_name": "LayoutView",
            "grid_template_rows": null,
            "right": null,
            "justify_content": null,
            "_view_module": "@jupyter-widgets/base",
            "overflow": null,
            "_model_module_version": "1.2.0",
            "_view_count": null,
            "flex_flow": null,
            "width": null,
            "min_width": null,
            "border": null,
            "align_items": null,
            "bottom": null,
            "_model_module": "@jupyter-widgets/base",
            "top": null,
            "grid_column": null,
            "overflow_y": null,
            "overflow_x": null,
            "grid_auto_flow": null,
            "grid_area": null,
            "grid_template_columns": null,
            "flex": null,
            "_model_name": "LayoutModel",
            "justify_items": null,
            "grid_row": null,
            "max_height": null,
            "align_content": null,
            "visibility": null,
            "align_self": null,
            "height": null,
            "min_height": null,
            "padding": null,
            "grid_auto_rows": null,
            "grid_gap": null,
            "max_width": null,
            "order": null,
            "_view_module_version": "1.2.0",
            "grid_template_areas": null,
            "object_position": null,
            "object_fit": null,
            "grid_auto_columns": null,
            "margin": null,
            "display": null,
            "left": null
          }
        },
        "3199ffb0845d413997cdd33e6755019b": {
          "model_module": "@jupyter-widgets/controls",
          "model_name": "HBoxModel",
          "model_module_version": "1.5.0",
          "state": {
            "_view_name": "HBoxView",
            "_dom_classes": [],
            "_model_name": "HBoxModel",
            "_view_module": "@jupyter-widgets/controls",
            "_model_module_version": "1.5.0",
            "_view_count": null,
            "_view_module_version": "1.5.0",
            "box_style": "",
            "layout": "IPY_MODEL_3ea639b1432344788360144a32fcee5d",
            "_model_module": "@jupyter-widgets/controls",
            "children": [
              "IPY_MODEL_0e93a5cd09064f9b95bb34e6ab0c67e0",
              "IPY_MODEL_18f788a1f9d447f381e3bd417bc49b4c",
              "IPY_MODEL_14c7e12ae936450ba88aa412f7662a07"
            ]
          }
        },
        "3ea639b1432344788360144a32fcee5d": {
          "model_module": "@jupyter-widgets/base",
          "model_name": "LayoutModel",
          "model_module_version": "1.2.0",
          "state": {
            "_view_name": "LayoutView",
            "grid_template_rows": null,
            "right": null,
            "justify_content": null,
            "_view_module": "@jupyter-widgets/base",
            "overflow": null,
            "_model_module_version": "1.2.0",
            "_view_count": null,
            "flex_flow": null,
            "width": null,
            "min_width": null,
            "border": null,
            "align_items": null,
            "bottom": null,
            "_model_module": "@jupyter-widgets/base",
            "top": null,
            "grid_column": null,
            "overflow_y": null,
            "overflow_x": null,
            "grid_auto_flow": null,
            "grid_area": null,
            "grid_template_columns": null,
            "flex": null,
            "_model_name": "LayoutModel",
            "justify_items": null,
            "grid_row": null,
            "max_height": null,
            "align_content": null,
            "visibility": null,
            "align_self": null,
            "height": null,
            "min_height": null,
            "padding": null,
            "grid_auto_rows": null,
            "grid_gap": null,
            "max_width": null,
            "order": null,
            "_view_module_version": "1.2.0",
            "grid_template_areas": null,
            "object_position": null,
            "object_fit": null,
            "grid_auto_columns": null,
            "margin": null,
            "display": null,
            "left": null
          }
        },
        "0e93a5cd09064f9b95bb34e6ab0c67e0": {
          "model_module": "@jupyter-widgets/controls",
          "model_name": "HTMLModel",
          "model_module_version": "1.5.0",
          "state": {
            "_view_name": "HTMLView",
            "style": "IPY_MODEL_e645357ea5374ea1ae4875cb7e554891",
            "_dom_classes": [],
            "description": "",
            "_model_name": "HTMLModel",
            "placeholder": "​",
            "_view_module": "@jupyter-widgets/controls",
            "_model_module_version": "1.5.0",
            "value": "",
            "_view_count": null,
            "_view_module_version": "1.5.0",
            "description_tooltip": null,
            "_model_module": "@jupyter-widgets/controls",
            "layout": "IPY_MODEL_c1e48f5562824c8ab714124c00bc6a0d"
          }
        },
        "18f788a1f9d447f381e3bd417bc49b4c": {
          "model_module": "@jupyter-widgets/controls",
          "model_name": "FloatProgressModel",
          "model_module_version": "1.5.0",
          "state": {
            "_view_name": "ProgressView",
            "style": "IPY_MODEL_5658920fda87428cb6fbb3a4b0d7bdea",
            "_dom_classes": [],
            "description": "",
            "_model_name": "FloatProgressModel",
            "bar_style": "success",
            "max": 4542,
            "_view_module": "@jupyter-widgets/controls",
            "_model_module_version": "1.5.0",
            "value": 4542,
            "_view_count": null,
            "_view_module_version": "1.5.0",
            "orientation": "horizontal",
            "min": 0,
            "description_tooltip": null,
            "_model_module": "@jupyter-widgets/controls",
            "layout": "IPY_MODEL_4eedd86964bb4fe5b963b3788f4fbfbf"
          }
        },
        "14c7e12ae936450ba88aa412f7662a07": {
          "model_module": "@jupyter-widgets/controls",
          "model_name": "HTMLModel",
          "model_module_version": "1.5.0",
          "state": {
            "_view_name": "HTMLView",
            "style": "IPY_MODEL_4ad455edc1b9420c81ced346f95ff3a7",
            "_dom_classes": [],
            "description": "",
            "_model_name": "HTMLModel",
            "placeholder": "​",
            "_view_module": "@jupyter-widgets/controls",
            "_model_module_version": "1.5.0",
            "value": " 5120/? [00:00&lt;00:00, 108333.48it/s]",
            "_view_count": null,
            "_view_module_version": "1.5.0",
            "description_tooltip": null,
            "_model_module": "@jupyter-widgets/controls",
            "layout": "IPY_MODEL_fa3eeb072351422f8b134bc3c9bed383"
          }
        },
        "e645357ea5374ea1ae4875cb7e554891": {
          "model_module": "@jupyter-widgets/controls",
          "model_name": "DescriptionStyleModel",
          "model_module_version": "1.5.0",
          "state": {
            "_view_name": "StyleView",
            "_model_name": "DescriptionStyleModel",
            "description_width": "",
            "_view_module": "@jupyter-widgets/base",
            "_model_module_version": "1.5.0",
            "_view_count": null,
            "_view_module_version": "1.2.0",
            "_model_module": "@jupyter-widgets/controls"
          }
        },
        "c1e48f5562824c8ab714124c00bc6a0d": {
          "model_module": "@jupyter-widgets/base",
          "model_name": "LayoutModel",
          "model_module_version": "1.2.0",
          "state": {
            "_view_name": "LayoutView",
            "grid_template_rows": null,
            "right": null,
            "justify_content": null,
            "_view_module": "@jupyter-widgets/base",
            "overflow": null,
            "_model_module_version": "1.2.0",
            "_view_count": null,
            "flex_flow": null,
            "width": null,
            "min_width": null,
            "border": null,
            "align_items": null,
            "bottom": null,
            "_model_module": "@jupyter-widgets/base",
            "top": null,
            "grid_column": null,
            "overflow_y": null,
            "overflow_x": null,
            "grid_auto_flow": null,
            "grid_area": null,
            "grid_template_columns": null,
            "flex": null,
            "_model_name": "LayoutModel",
            "justify_items": null,
            "grid_row": null,
            "max_height": null,
            "align_content": null,
            "visibility": null,
            "align_self": null,
            "height": null,
            "min_height": null,
            "padding": null,
            "grid_auto_rows": null,
            "grid_gap": null,
            "max_width": null,
            "order": null,
            "_view_module_version": "1.2.0",
            "grid_template_areas": null,
            "object_position": null,
            "object_fit": null,
            "grid_auto_columns": null,
            "margin": null,
            "display": null,
            "left": null
          }
        },
        "5658920fda87428cb6fbb3a4b0d7bdea": {
          "model_module": "@jupyter-widgets/controls",
          "model_name": "ProgressStyleModel",
          "model_module_version": "1.5.0",
          "state": {
            "_view_name": "StyleView",
            "_model_name": "ProgressStyleModel",
            "description_width": "",
            "_view_module": "@jupyter-widgets/base",
            "_model_module_version": "1.5.0",
            "_view_count": null,
            "_view_module_version": "1.2.0",
            "bar_color": null,
            "_model_module": "@jupyter-widgets/controls"
          }
        },
        "4eedd86964bb4fe5b963b3788f4fbfbf": {
          "model_module": "@jupyter-widgets/base",
          "model_name": "LayoutModel",
          "model_module_version": "1.2.0",
          "state": {
            "_view_name": "LayoutView",
            "grid_template_rows": null,
            "right": null,
            "justify_content": null,
            "_view_module": "@jupyter-widgets/base",
            "overflow": null,
            "_model_module_version": "1.2.0",
            "_view_count": null,
            "flex_flow": null,
            "width": null,
            "min_width": null,
            "border": null,
            "align_items": null,
            "bottom": null,
            "_model_module": "@jupyter-widgets/base",
            "top": null,
            "grid_column": null,
            "overflow_y": null,
            "overflow_x": null,
            "grid_auto_flow": null,
            "grid_area": null,
            "grid_template_columns": null,
            "flex": null,
            "_model_name": "LayoutModel",
            "justify_items": null,
            "grid_row": null,
            "max_height": null,
            "align_content": null,
            "visibility": null,
            "align_self": null,
            "height": null,
            "min_height": null,
            "padding": null,
            "grid_auto_rows": null,
            "grid_gap": null,
            "max_width": null,
            "order": null,
            "_view_module_version": "1.2.0",
            "grid_template_areas": null,
            "object_position": null,
            "object_fit": null,
            "grid_auto_columns": null,
            "margin": null,
            "display": null,
            "left": null
          }
        },
        "4ad455edc1b9420c81ced346f95ff3a7": {
          "model_module": "@jupyter-widgets/controls",
          "model_name": "DescriptionStyleModel",
          "model_module_version": "1.5.0",
          "state": {
            "_view_name": "StyleView",
            "_model_name": "DescriptionStyleModel",
            "description_width": "",
            "_view_module": "@jupyter-widgets/base",
            "_model_module_version": "1.5.0",
            "_view_count": null,
            "_view_module_version": "1.2.0",
            "_model_module": "@jupyter-widgets/controls"
          }
        },
        "fa3eeb072351422f8b134bc3c9bed383": {
          "model_module": "@jupyter-widgets/base",
          "model_name": "LayoutModel",
          "model_module_version": "1.2.0",
          "state": {
            "_view_name": "LayoutView",
            "grid_template_rows": null,
            "right": null,
            "justify_content": null,
            "_view_module": "@jupyter-widgets/base",
            "overflow": null,
            "_model_module_version": "1.2.0",
            "_view_count": null,
            "flex_flow": null,
            "width": null,
            "min_width": null,
            "border": null,
            "align_items": null,
            "bottom": null,
            "_model_module": "@jupyter-widgets/base",
            "top": null,
            "grid_column": null,
            "overflow_y": null,
            "overflow_x": null,
            "grid_auto_flow": null,
            "grid_area": null,
            "grid_template_columns": null,
            "flex": null,
            "_model_name": "LayoutModel",
            "justify_items": null,
            "grid_row": null,
            "max_height": null,
            "align_content": null,
            "visibility": null,
            "align_self": null,
            "height": null,
            "min_height": null,
            "padding": null,
            "grid_auto_rows": null,
            "grid_gap": null,
            "max_width": null,
            "order": null,
            "_view_module_version": "1.2.0",
            "grid_template_areas": null,
            "object_position": null,
            "object_fit": null,
            "grid_auto_columns": null,
            "margin": null,
            "display": null,
            "left": null
          }
        }
      }
    }
  },
  "cells": [
    {
      "cell_type": "markdown",
      "metadata": {
        "id": "e67ZjlQjuRT9"
      },
      "source": [
        "## ***MNIST using 2 layer neural network***\n",
        "\n",
        "# Implement a two-layer neural network to recognize hand-written digits\n"
      ]
    },
    {
      "cell_type": "code",
      "metadata": {
        "id": "Ts8JCILKuRUD"
      },
      "source": [
        "# Uncomment the below line and run to install required packages if you have not done so\n",
        "\n",
        "#!pip install torch torchvision matplotlib tqdm"
      ],
      "execution_count": null,
      "outputs": []
    },
    {
      "cell_type": "code",
      "metadata": {
        "colab": {
          "base_uri": "https://localhost:8080/"
        },
        "id": "y85LtX5quRUF",
        "outputId": "6213c7cd-79fe-4693-99bb-8cf82d952b8c"
      },
      "source": [
        "# Setup\n",
        "import numpy as np\n",
        "import torch\n",
        "import matplotlib.pyplot as plt\n",
        "import torch.nn as nn\n",
        "from torchvision import datasets, transforms\n",
        "from tqdm import trange\n",
        "\n",
        "%matplotlib inline\n",
        "DEVICE = 'cuda' if torch.cuda.is_available() else 'cpu'\n",
        "\n",
        "# Set random seed for reproducibility\n",
        "seed = 1234\n",
        "# cuDNN uses nondeterministic algorithms, set some options for reproducibility\n",
        "torch.backends.cudnn.deterministic = True\n",
        "torch.backends.cudnn.benchmark = False\n",
        "torch.manual_seed(seed)"
      ],
      "execution_count": null,
      "outputs": [
        {
          "output_type": "execute_result",
          "data": {
            "text/plain": [
              "<torch._C.Generator at 0x7fd827e0dbf0>"
            ]
          },
          "metadata": {},
          "execution_count": 2
        }
      ]
    },
    {
      "cell_type": "markdown",
      "metadata": {
        "id": "KApt-wJfuRUG"
      },
      "source": [
        "## Get MNIST Data\n",
        "The `torchvision` package provides a wrapper to download MNIST data. The cell below downloads the training and test datasets and creates dataloaders for each."
      ]
    },
    {
      "cell_type": "code",
      "metadata": {
        "id": "lQcAYT1puRUG",
        "colab": {
          "base_uri": "https://localhost:8080/",
          "height": 434,
          "referenced_widgets": [
            "b09649a8848c4d79b0fff34ab821daa8",
            "7dbfbb94e5244f12a20ade5b654f5115",
            "35bda7bc7c8e46448f52521c6c42632e",
            "bb13ab629a3b43c8ac3c1bc368b34499",
            "49ce2f741cb1416f9703c949838c7668",
            "5922ddb9ac794cdf81863fc7293cd88b",
            "88b1243fab1e43fa9741c3841fb03bc5",
            "4fc9b32a42f340ed96e3f43752245633",
            "84e4317d5bf94d6daadabcf6edfa9271",
            "f7ee88e7a9ac42859e1f59c86f1dc6d1",
            "6c430dc79f884ad39b7bbc89e0d9f9fe",
            "ba07ae48741e4161bd4728095258ca49",
            "bd8d56e399514e00ae85776d741940c8",
            "4466ff92a52749829043cb70ddf8b1b5",
            "f6fd24ee0a2047d594788702972c3b05",
            "00368511f9e246199e901ce85c3af762",
            "75544387a9114baba09b029eda17a810",
            "c48e41e717a14a1e9617667745e28aec",
            "e4bd1fc4c2684f9c8a00e8c1c3a3f425",
            "1f6d7c7f48e74566b6fa194f5e5ab7ff",
            "d2de57bd1a8f4c4ab860a46204d26545",
            "f436a5df366b4b2daef97692c48ba926",
            "8b1e43095f3a404bb9fb0dbd8c8cacbf",
            "7f6e2c07cd1544638f79f15de6a71107",
            "c55611b1007a418ca48e7e9b2c661072",
            "e4104fbdd6764050849db9ab11c43cd4",
            "99cd7b2f45a34f6587da055fa0d83d2a",
            "5e02616240714dcca846f3045f495f4e",
            "83d4d3f4f25c43ab9f98ad3f6263727f",
            "318bbff491634e59bbd90d1a7006cbfb",
            "a34680aee360474481f57399962a1d84",
            "478349b949d14d909a290b910bd131bb",
            "81d8581f0eed4c869980485c4bc033d4",
            "3199ffb0845d413997cdd33e6755019b",
            "3ea639b1432344788360144a32fcee5d",
            "0e93a5cd09064f9b95bb34e6ab0c67e0",
            "18f788a1f9d447f381e3bd417bc49b4c",
            "14c7e12ae936450ba88aa412f7662a07",
            "e645357ea5374ea1ae4875cb7e554891",
            "c1e48f5562824c8ab714124c00bc6a0d",
            "5658920fda87428cb6fbb3a4b0d7bdea",
            "4eedd86964bb4fe5b963b3788f4fbfbf",
            "4ad455edc1b9420c81ced346f95ff3a7",
            "fa3eeb072351422f8b134bc3c9bed383"
          ]
        },
        "outputId": "b22e467a-e1fa-4a71-d6fb-be177b79e685"
      },
      "source": [
        "# Initial transform (convert to PyTorch Tensor only)\n",
        "transform = transforms.Compose([\n",
        "    transforms.ToTensor(),\n",
        "])\n",
        "\n",
        "train_data = datasets.MNIST('data', train=True, download=True, transform=transform)\n",
        "test_data = datasets.MNIST('data', train=False, download=True, transform=transform)\n",
        "\n",
        "## Use the following lines to check the basic statistics of this dataset\n",
        "##Calculate training data mean and standard deviation to apply normalization to data\n",
        "#train_data.data are of type uint8 (range 0,255) so divide by 255.\n",
        "train_mean = train_data.data.double().mean() / 255.\n",
        "train_std = train_data.data.double().std() / 255.\n",
        "print(f'Train Data: Mean={train_mean}, Std={train_std}')\n",
        "\n",
        "## Optional: Perform normalization of train and test data using calculated training mean and standard deviation\n",
        "# This will convert data to be approximately standard normal\n",
        "#transform = transforms.Compose([\n",
        "#    transforms.ToTensor(),\n",
        "#    transforms.Normalize((train_mean, ), (train_std, ))\n",
        "#])\n",
        "\n",
        "train_data.transform = transform\n",
        "test_data.transform = transform\n",
        "\n",
        "batch_size = 64\n",
        "torch.manual_seed(seed)\n",
        "train_loader = torch.utils.data.DataLoader(train_data, batch_size=batch_size, shuffle=True, num_workers=True) \n",
        "test_loader = torch.utils.data.DataLoader(test_data, batch_size=batch_size, shuffle=False, num_workers=True)"
      ],
      "execution_count": null,
      "outputs": [
        {
          "output_type": "stream",
          "name": "stdout",
          "text": [
            "Downloading http://yann.lecun.com/exdb/mnist/train-images-idx3-ubyte.gz\n",
            "Downloading http://yann.lecun.com/exdb/mnist/train-images-idx3-ubyte.gz to data/MNIST/raw/train-images-idx3-ubyte.gz\n"
          ]
        },
        {
          "output_type": "display_data",
          "data": {
            "application/vnd.jupyter.widget-view+json": {
              "model_id": "b09649a8848c4d79b0fff34ab821daa8",
              "version_minor": 0,
              "version_major": 2
            },
            "text/plain": [
              "  0%|          | 0/9912422 [00:00<?, ?it/s]"
            ]
          },
          "metadata": {}
        },
        {
          "output_type": "stream",
          "name": "stdout",
          "text": [
            "Extracting data/MNIST/raw/train-images-idx3-ubyte.gz to data/MNIST/raw\n",
            "\n",
            "Downloading http://yann.lecun.com/exdb/mnist/train-labels-idx1-ubyte.gz\n",
            "Downloading http://yann.lecun.com/exdb/mnist/train-labels-idx1-ubyte.gz to data/MNIST/raw/train-labels-idx1-ubyte.gz\n"
          ]
        },
        {
          "output_type": "display_data",
          "data": {
            "application/vnd.jupyter.widget-view+json": {
              "model_id": "ba07ae48741e4161bd4728095258ca49",
              "version_minor": 0,
              "version_major": 2
            },
            "text/plain": [
              "  0%|          | 0/28881 [00:00<?, ?it/s]"
            ]
          },
          "metadata": {}
        },
        {
          "output_type": "stream",
          "name": "stdout",
          "text": [
            "Extracting data/MNIST/raw/train-labels-idx1-ubyte.gz to data/MNIST/raw\n",
            "\n",
            "Downloading http://yann.lecun.com/exdb/mnist/t10k-images-idx3-ubyte.gz\n",
            "Downloading http://yann.lecun.com/exdb/mnist/t10k-images-idx3-ubyte.gz to data/MNIST/raw/t10k-images-idx3-ubyte.gz\n"
          ]
        },
        {
          "output_type": "display_data",
          "data": {
            "application/vnd.jupyter.widget-view+json": {
              "model_id": "8b1e43095f3a404bb9fb0dbd8c8cacbf",
              "version_minor": 0,
              "version_major": 2
            },
            "text/plain": [
              "  0%|          | 0/1648877 [00:00<?, ?it/s]"
            ]
          },
          "metadata": {}
        },
        {
          "output_type": "stream",
          "name": "stdout",
          "text": [
            "Extracting data/MNIST/raw/t10k-images-idx3-ubyte.gz to data/MNIST/raw\n",
            "\n",
            "Downloading http://yann.lecun.com/exdb/mnist/t10k-labels-idx1-ubyte.gz\n",
            "Downloading http://yann.lecun.com/exdb/mnist/t10k-labels-idx1-ubyte.gz to data/MNIST/raw/t10k-labels-idx1-ubyte.gz\n"
          ]
        },
        {
          "output_type": "display_data",
          "data": {
            "application/vnd.jupyter.widget-view+json": {
              "model_id": "3199ffb0845d413997cdd33e6755019b",
              "version_minor": 0,
              "version_major": 2
            },
            "text/plain": [
              "  0%|          | 0/4542 [00:00<?, ?it/s]"
            ]
          },
          "metadata": {}
        },
        {
          "output_type": "stream",
          "name": "stdout",
          "text": [
            "Extracting data/MNIST/raw/t10k-labels-idx1-ubyte.gz to data/MNIST/raw\n",
            "\n",
            "Train Data: Mean=0.1306604762738429, Std=0.30810780717887876\n"
          ]
        }
      ]
    },
    {
      "cell_type": "markdown",
      "metadata": {
        "id": "SQkhhLjUuRUH"
      },
      "source": [
        "## Inspect dataset"
      ]
    },
    {
      "cell_type": "code",
      "metadata": {
        "tags": [],
        "colab": {
          "base_uri": "https://localhost:8080/",
          "height": 659
        },
        "id": "8wQZ1K4GuRUI",
        "outputId": "9fe65cce-596d-4e14-a464-25c6edf4848a"
      },
      "source": [
        "# Randomly sample 20 images of the training dataset\n",
        "# To visualize the i-th sample, use the following code\n",
        "# > plt.subplot(4, 5, i+1)\n",
        "# > plt.imshow(images[i].squeeze(), cmap='gray', interpolation='none')\n",
        "# > plt.title(f'Label: {labels[i]}', fontsize=14)\n",
        "# > plt.axis('off')\n",
        "\n",
        "images, labels = iter(train_loader).next()\n",
        "\n",
        "# Print information and statistics of the first batch of images\n",
        "print(\"Images shape: \", images.shape)\n",
        "print(\"Labels shape: \", labels.shape)\n",
        "print(f'Mean={images.mean()}, Std={images.std()}')\n",
        "\n",
        "fig = plt.figure(figsize=(12, 10))\n",
        "\n",
        "# ------------------\n",
        "# Function to convert tensor to image\n",
        "def image_convert(tensor):\n",
        "  image = tensor.clone().detach().numpy()\n",
        "  image = image.transpose(1, 2, 0)\n",
        "  image = image*np.array((0.5,0.5,0.5))\n",
        "  return image\n",
        "\n",
        "for i in np.arange(20):\n",
        "  ax = fig.add_subplot(5, 4, i + 1)\n",
        "  plt.imshow(image_convert(images[i]))\n",
        "  ax.set_title(labels[i].item())\n",
        "# ------------------"
      ],
      "execution_count": null,
      "outputs": [
        {
          "output_type": "stream",
          "name": "stdout",
          "text": [
            "Images shape:  torch.Size([64, 1, 28, 28])\n",
            "Labels shape:  torch.Size([64])\n",
            "Mean=0.133231520652771, Std=0.3099796175956726\n"
          ]
        },
        {
          "output_type": "display_data",
          "data": {
            "image/png": "[encoded data removed]",
            "text/plain": [
              "<Figure size 864x720 with 20 Axes>"
            ]
          },
          "metadata": {
            "needs_background": "light"
          }
        }
      ]
    },
    {
      "cell_type": "markdown",
      "metadata": {
        "id": "Aap120dWuRUJ"
      },
      "source": [
        "## Implement a two-layer neural network \n",
        "\n",
        "Write a class that constructs a two-layer neural network as specified in the handout. The class consists of two methods, an initialization that sets up the architecture of the model, and a forward pass function given an input feature."
      ]
    },
    {
      "cell_type": "code",
      "metadata": {
        "tags": [],
        "colab": {
          "base_uri": "https://localhost:8080/"
        },
        "id": "B4RStPA_uRUK",
        "outputId": "ed12da23-941f-4479-bd2f-b2942b10daa5"
      },
      "source": [
        "input_size = 1 * 28 * 28  # input spatial dimension of images\n",
        "hidden_size = 128         # width of hidden layer\n",
        "output_size = 10          # number of output neurons\n",
        "\n",
        "class MNISTClassifierMLP(torch.nn.Module):\n",
        "    \n",
        "    def __init__(self):\n",
        "        \n",
        "        super().__init__()\n",
        "        self.flatten = torch.nn.Flatten(start_dim=1)\n",
        "        # ------------------\n",
        "\n",
        "        self.fc1 = torch.nn.Linear(input_size, hidden_size)\n",
        "        self.act = torch.nn.ReLU()\n",
        "        self.fc2 = torch.nn.Linear(hidden_size, output_size)\n",
        "        self.log_softmax = torch.nn.functional.log_softmax\n",
        "\n",
        "        # ------------------\n",
        "    \n",
        "    def forward(self, x):\n",
        "        # Input image is of shape [batch_size, 1, 28, 28]\n",
        "        # Need to flatten to [batch_size, 784] before feeding to fc1\n",
        "        x = self.flatten(x)\n",
        "\n",
        "        # ------------------       \n",
        "        x = self.fc1(x)\n",
        "        x = self.act(x)\n",
        "        x = self.fc2(x)\n",
        "        x = self.log_softmax(x)\n",
        "        y_output = x\n",
        "        \n",
        "        return y_output\n",
        "        # ------------------\n",
        "\n",
        "model = MNISTClassifierMLP().to(DEVICE)\n",
        "\n",
        "# sanity check\n",
        "print(model)"
      ],
      "execution_count": null,
      "outputs": [
        {
          "output_type": "stream",
          "name": "stdout",
          "text": [
            "MNISTClassifierMLP(\n",
            "  (flatten): Flatten(start_dim=1, end_dim=-1)\n",
            "  (fc1): Linear(in_features=784, out_features=128, bias=True)\n",
            "  (act): ReLU()\n",
            "  (fc2): Linear(in_features=128, out_features=10, bias=True)\n",
            ")\n"
          ]
        }
      ]
    },
    {
      "cell_type": "markdown",
      "metadata": {
        "id": "jRI3efyQuRUL"
      },
      "source": [
        "## Implement an optimizer to train the neural net model\n",
        "\n",
        "Write a method called `train_one_epoch` that runs one step using the optimizer."
      ]
    },
    {
      "cell_type": "code",
      "metadata": {
        "id": "1ex6IBG5uRUM"
      },
      "source": [
        "def train_one_epoch(train_loader, model, device, optimizer, log_interval, epoch):\n",
        "    model.train()\n",
        "    losses = []\n",
        "    counter = []\n",
        "    \n",
        "    for i, (img, label) in enumerate(train_loader):\n",
        "        img, label = img.to(device), label.to(device)\n",
        "\n",
        "        # ------------------\n",
        "\n",
        "        output = model(img)\n",
        "\n",
        "        criterion = nn.NLLLoss()\n",
        "        loss = criterion(output,label)\n",
        "\n",
        "        # Backpropagation and optimization\n",
        "\n",
        "        optimizer.zero_grad()\n",
        "        loss.backward()  \n",
        "        optimizer.step() \n",
        "               \n",
        "        # ------------------\n",
        "    \n",
        "        # Record training loss every log_interval and keep counter of total training images seen\n",
        "        if (i+1) % log_interval == 0:\n",
        "            losses.append(loss.item())\n",
        "            counter.append(\n",
        "                (i * batch_size) + img.size(0) + epoch * len(train_loader.dataset))\n",
        "\n",
        "    return losses, counter"
      ],
      "execution_count": null,
      "outputs": []
    },
    {
      "cell_type": "markdown",
      "metadata": {
        "id": "gwiAF3GQuRUM"
      },
      "source": [
        "## Run the optimization procedure and test the trained model\n",
        "\n",
        "Write a method called `test_one_epoch` that evalutes the trained model on the test dataset. Return the average test loss and the number of samples that the model predicts correctly."
      ]
    },
    {
      "cell_type": "code",
      "metadata": {
        "id": "p2454RVOuRUN"
      },
      "source": [
        "def test_one_epoch(test_loader, model, device):\n",
        "    model.eval()\n",
        "    test_loss = 0\n",
        "    num_correct = 0\n",
        "    \n",
        "    with torch.no_grad():\n",
        "        for i, (img, label) in enumerate(test_loader):\n",
        "            img, label = img.to(device), label.to(device)\n",
        "\n",
        "            # ------------------\n",
        "\n",
        "            output = model(img)\n",
        "\n",
        "            criterion = nn.NLLLoss()\n",
        "            loss = criterion(output, label)\n",
        "\n",
        "            pred = torch.argmax(output, 1) # Get index of largest log-probability and use that as prediction\n",
        "            num_correct += torch.sum(pred == label)\n",
        "            test_loss += loss.item()\n",
        "\n",
        "            # ------------------\n",
        "            \n",
        "    test_loss /= len(test_loader.dataset)\n",
        "    return test_loss, num_correct"
      ],
      "execution_count": null,
      "outputs": []
    },
    {
      "cell_type": "markdown",
      "metadata": {
        "id": "ciy3VD3RuRUO"
      },
      "source": [
        "Train the model using the cell below. Hyperparameters are given."
      ]
    },
    {
      "cell_type": "code",
      "metadata": {
        "scrolled": true,
        "tags": [],
        "colab": {
          "base_uri": "https://localhost:8080/"
        },
        "id": "kffhnUf0uRUP",
        "outputId": "8f828da6-8041-4a34-b586-7e8a605fbd4f"
      },
      "source": [
        "# Hyperparameters\n",
        "lr = 0.01\n",
        "max_epochs=10\n",
        "gamma = 0.95\n",
        "\n",
        "# Recording data\n",
        "log_interval = 100\n",
        "\n",
        "# Instantiate optimizer (model was created in previous cell)\n",
        "optimizer = torch.optim.SGD(model.parameters(), lr=lr)\n",
        "\n",
        "train_losses = []\n",
        "train_counter = []\n",
        "test_losses = []\n",
        "test_correct = []\n",
        "tt_losses = []\n",
        "tt_correct = []\n",
        "\n",
        "for epoch in trange(max_epochs, leave=True, desc='Epochs'):\n",
        "    train_loss, counter = train_one_epoch(train_loader, model, DEVICE, optimizer, log_interval, epoch)\n",
        "    test_loss, num_correct = test_one_epoch(test_loader, model, DEVICE)\n",
        "    train_losss, train_num_correct = test_one_epoch(train_loader, model, DEVICE)\n",
        "\n",
        "    # Record results\n",
        "    train_losses.extend(train_loss)\n",
        "    train_counter.extend(counter)\n",
        "    test_losses.append(test_loss)\n",
        "    test_correct.append(num_correct)\n",
        "    tt_losses.append(train_losss)\n",
        "    tt_correct.append(train_num_correct)\n",
        "\n",
        "print(f\"Train accuracy: {tt_correct[-1]/len(train_loader.dataset)}\")\n",
        "print(f\"Test accuracy: {test_correct[-1]/len(test_loader.dataset)}\")\n",
        "print(f\"Test Loss: {test_losses}\")\n",
        "print(f\"Train Loss: {tt_losses}\")"
      ],
      "execution_count": null,
      "outputs": [
        {
          "output_type": "stream",
          "name": "stderr",
          "text": [
            "Epochs:   0%|          | 0/10 [00:00<?, ?it/s]/usr/local/lib/python3.7/dist-packages/ipykernel_launcher.py:31: UserWarning: Implicit dimension choice for log_softmax has been deprecated. Change the call to include dim=X as an argument.\n",
            "Epochs: 100%|██████████| 10/10 [02:53<00:00, 17.34s/it]"
          ]
        },
        {
          "output_type": "stream",
          "name": "stdout",
          "text": [
            "Train accuracy: 0.9293333292007446\n",
            "Test accuracy: 0.9314000010490417\n",
            "Test Loss: [0.00924958386272192, 0.006371338571608066, 0.005492101474106312, 0.00507441203892231, 0.004746345206908881, 0.0045043962467461824, 0.004331964365020394, 0.004138823292404413, 0.003978280115593225, 0.0038462609554640948]\n",
            "Train Loss: [0.009564827989041805, 0.006655937006324529, 0.0057439800245066485, 0.005287907769779364, 0.004955535595367352, 0.004689698090776801, 0.004474070281162858, 0.004275894067188104, 0.004096103636423746, 0.003929876461625099]\n"
          ]
        },
        {
          "output_type": "stream",
          "name": "stderr",
          "text": [
            "\n"
          ]
        }
      ]
    },
    {
      "cell_type": "markdown",
      "metadata": {
        "id": "4nWiHTFDuRUQ"
      },
      "source": [
        "## Inspection:"
      ]
    },
    {
      "cell_type": "code",
      "metadata": {
        "colab": {
          "base_uri": "https://localhost:8080/",
          "height": 544
        },
        "id": "8nF3eT-iuRUR",
        "outputId": "ef4c70a9-0f5a-426c-96b8-6947279385d5"
      },
      "source": [
        "# 1. Draw training loss curve\n",
        "fig = plt.figure(figsize=(12,8))\n",
        "plt.plot(train_counter, train_losses, label='Train loss')\n",
        "plt.plot([i * len(train_loader.dataset) for i in range(1, max_epochs + 1)], \n",
        "         test_losses, label='Test loss', marker='o')\n",
        "plt.xlim(left=0)\n",
        "plt.ylim(bottom=0)\n",
        "plt.title('Loss curve', fontsize=24)\n",
        "plt.xlabel('Number of training examples seen', fontsize=16)\n",
        "plt.ylabel('NLL', fontsize=16)\n",
        "plt.legend(loc='upper right', fontsize=14)"
      ],
      "execution_count": null,
      "outputs": [
        {
          "output_type": "execute_result",
          "data": {
            "text/plain": [
              "<matplotlib.legend.Legend at 0x7fd823d86290>"
            ]
          },
          "metadata": {},
          "execution_count": 9
        },
        {
          "output_type": "display_data",
          "data": {
            "image/png": "[encoded data removed]",
            "text/plain": [
              "<Figure size 864x576 with 1 Axes>"
            ]
          },
          "metadata": {
            "needs_background": "light"
          }
        }
      ]
    },
    {
      "cell_type": "code",
      "metadata": {
        "colab": {
          "base_uri": "https://localhost:8080/",
          "height": 699
        },
        "id": "GwEoBhkNuRUR",
        "outputId": "5e05d51c-4379-4b91-a029-49c56346c50a"
      },
      "source": [
        "# 2. Show the predictions of the first 20 images of the test dataset\n",
        "images, labels = iter(test_loader).next()\n",
        "images, labels = images.to(DEVICE), labels.to(DEVICE)\n",
        "\n",
        "output = model(images)\n",
        "pred = output.argmax(dim=1)\n",
        "\n",
        "fig = plt.figure(figsize=(12, 11))\n",
        "# ------------------\n",
        "\n",
        "for i in np.arange(20):\n",
        "  ax = fig.add_subplot(5, 4, i + 1)\n",
        "  plt.imshow(image_convert(images[i]))\n",
        "  ax.set_title(pred[i].item())\n",
        "# ------------------"
      ],
      "execution_count": null,
      "outputs": [
        {
          "output_type": "stream",
          "name": "stderr",
          "text": [
            "/usr/local/lib/python3.7/dist-packages/ipykernel_launcher.py:31: UserWarning: Implicit dimension choice for log_softmax has been deprecated. Change the call to include dim=X as an argument.\n"
          ]
        },
        {
          "output_type": "display_data",
          "data": {
            "image/png": "[encoded data removed]",
            "text/plain": [
              "<Figure size 864x792 with 20 Axes>"
            ]
          },
          "metadata": {
            "needs_background": "light"
          }
        }
      ]
    },
    {
      "cell_type": "code",
      "metadata": {
        "colab": {
          "base_uri": "https://localhost:8080/",
          "height": 685
        },
        "id": "6DKChi2C1pOs",
        "outputId": "cf59eb91-870a-4be4-f732-00c0cb12a9a7"
      },
      "source": [
        "# 3. Get 20 incorrect predictions in test dataset\n",
        "\n",
        "# Collect the images, predictions, labels for the first 20 incorrect predictions\n",
        "# Initialize empty tensors and then keep appending to the tensor.\n",
        "# Make sure that the first dimension of the tensors is the total number of incorrect\n",
        "# predictions seen so far\n",
        "# Ex) incorrect_imgs should be of shape i x C x H x W, where i is the total number of \n",
        "# incorrect images so far.\n",
        "incorrect_imgs = torch.Tensor().to(DEVICE)\n",
        "incorrect_preds = torch.IntTensor().to(DEVICE)\n",
        "incorrect_labels = torch.IntTensor().to(DEVICE)\n",
        "misclassified=[]\n",
        "misclassified_pred=[]\n",
        "misclassified_target=[]\n",
        "wrongPredictionIndexes = []\n",
        "\n",
        "with torch.no_grad():\n",
        "    # Test set iterator\n",
        "    it = iter(test_loader)\n",
        "    # Loop over the test set batches until incorrect_imgs.size(0) >= 20\n",
        "    while incorrect_imgs.size(0) < 20:\n",
        "        images, labels = it.next()\n",
        "        images, labels = images.to(DEVICE), labels.to(DEVICE)\n",
        "\n",
        "        # ------------------\n",
        "\n",
        "        output = model(images)\n",
        "        pred = output.argmax(dim=1, keepdim=True)\n",
        "\n",
        "        # Compare prediction and true labels and append the incorrect predictions\n",
        "        # using `torch.cat`.\n",
        "        for idx, i in enumerate(output):\n",
        "          if pred[idx] != labels[idx]:\n",
        "            wrongPredictionIndexes.append(idx) \n",
        "            batch_misclassified = images[idx]\n",
        "            batch_mis_pred = pred[idx]\n",
        "            batch_mis_target = labels.view_as(pred)[idx]\n",
        "\n",
        "            misclassified.append(batch_misclassified)\n",
        "            misclassified_pred.append(batch_mis_pred)\n",
        "            misclassified_target.append(batch_mis_target)\n",
        "\n",
        "        incorrect_imgs = torch.cat(misclassified)\n",
        "        incorrect_preds = torch.cat(misclassified_pred)\n",
        "        incorrect_labels = torch.cat(misclassified_target)      \n",
        "        # ------------------\n",
        "                \n",
        "# Show the first 20 wrong predictions in test set\n",
        "fig = plt.figure(figsize=(12, 11))\n",
        "for i in range(20):\n",
        "    plt.subplot(4, 5, i+1)\n",
        "    plt.imshow(incorrect_imgs[i].squeeze().cpu().numpy(), cmap='gray', interpolation='none')\n",
        "    plt.title(f'Prediction: {incorrect_preds[i].item()}\\nLabel: {incorrect_labels[i].item()}', fontsize=14)\n",
        "    plt.axis('off')"
      ],
      "execution_count": null,
      "outputs": [
        {
          "output_type": "stream",
          "name": "stderr",
          "text": [
            "/usr/local/lib/python3.7/dist-packages/ipykernel_launcher.py:31: UserWarning: Implicit dimension choice for log_softmax has been deprecated. Change the call to include dim=X as an argument.\n"
          ]
        },
        {
          "output_type": "display_data",
          "data": {
            "image/png": "[encoded data removed]",
            "text/plain": [
              "<Figure size 864x792 with 20 Axes>"
            ]
          },
          "metadata": {
            "needs_background": "light"
          }
        }
      ]
    }
  ]
}